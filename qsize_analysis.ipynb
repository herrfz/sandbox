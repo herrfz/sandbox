{
 "metadata": {
  "name": ""
 },
 "nbformat": 3,
 "nbformat_minor": 0,
 "worksheets": [
  {
   "cells": [
    {
     "cell_type": "code",
     "collapsed": false,
     "input": [
      "import pandas as pd\n",
      "import datetime as dt\n",
      "import time"
     ],
     "language": "python",
     "metadata": {},
     "outputs": [],
     "prompt_number": 55
    },
    {
     "cell_type": "code",
     "collapsed": false,
     "input": [
      "!head test.log"
     ],
     "language": "python",
     "metadata": {},
     "outputs": [
      {
       "output_type": "stream",
       "stream": "stdout",
       "text": [
        "2013-12-26 08:06:18,108 0\n",
        "2013-12-26 08:06:18,608 1\n",
        "2013-12-26 08:06:19,203 0\n",
        "2013-12-26 08:06:19,703 0\n",
        "2013-12-26 08:06:20,203 1\n",
        "2013-12-26 08:06:20,655 0\n",
        "2013-12-26 08:06:21,155 0\n",
        "2013-12-26 08:06:21,655 0\n",
        "2013-12-26 08:06:22,155 1\n",
        "2013-12-26 08:06:22,750 0\n"
       ]
      }
     ],
     "prompt_number": 47
    },
    {
     "cell_type": "code",
     "collapsed": false,
     "input": [
      "parse = lambda x: dt.datetime.strptime(x, '%Y-%m-%d %H:%M:%S,%f')\n",
      "\n",
      "logfile = pd.read_csv('test.log', sep=' ', header=None, parse_dates=[[0, 1]], \n",
      "                      date_parser=parse, error_bad_lines=False)\n",
      "logfile.columns = ['timestamp', 'event']\n",
      "logfile = logfile.set_index('timestamp')\n",
      "logfile.head(10)"
     ],
     "language": "python",
     "metadata": {},
     "outputs": [
      {
       "output_type": "stream",
       "stream": "stderr",
       "text": [
        "Skipping line 25: expected 3 fields, saw 6\n",
        "\n"
       ]
      },
      {
       "html": [
        "<div style=\"max-height:1000px;max-width:1500px;overflow:auto;\">\n",
        "<table border=\"1\" class=\"dataframe\">\n",
        "  <thead>\n",
        "    <tr style=\"text-align: right;\">\n",
        "      <th></th>\n",
        "      <th>event</th>\n",
        "    </tr>\n",
        "    <tr>\n",
        "      <th>timestamp</th>\n",
        "      <th></th>\n",
        "    </tr>\n",
        "  </thead>\n",
        "  <tbody>\n",
        "    <tr>\n",
        "      <th>2013-12-26 08:06:18.108000</th>\n",
        "      <td> 0</td>\n",
        "    </tr>\n",
        "    <tr>\n",
        "      <th>2013-12-26 08:06:18.608000</th>\n",
        "      <td> 1</td>\n",
        "    </tr>\n",
        "    <tr>\n",
        "      <th>2013-12-26 08:06:19.203000</th>\n",
        "      <td> 0</td>\n",
        "    </tr>\n",
        "    <tr>\n",
        "      <th>2013-12-26 08:06:19.703000</th>\n",
        "      <td> 0</td>\n",
        "    </tr>\n",
        "    <tr>\n",
        "      <th>2013-12-26 08:06:20.203000</th>\n",
        "      <td> 1</td>\n",
        "    </tr>\n",
        "    <tr>\n",
        "      <th>2013-12-26 08:06:20.655000</th>\n",
        "      <td> 0</td>\n",
        "    </tr>\n",
        "    <tr>\n",
        "      <th>2013-12-26 08:06:21.155000</th>\n",
        "      <td> 0</td>\n",
        "    </tr>\n",
        "    <tr>\n",
        "      <th>2013-12-26 08:06:21.655000</th>\n",
        "      <td> 0</td>\n",
        "    </tr>\n",
        "    <tr>\n",
        "      <th>2013-12-26 08:06:22.155000</th>\n",
        "      <td> 1</td>\n",
        "    </tr>\n",
        "    <tr>\n",
        "      <th>2013-12-26 08:06:22.750000</th>\n",
        "      <td> 0</td>\n",
        "    </tr>\n",
        "  </tbody>\n",
        "</table>\n",
        "</div>"
       ],
       "metadata": {},
       "output_type": "pyout",
       "prompt_number": 61,
       "text": [
        "                           event\n",
        "timestamp                       \n",
        "2013-12-26 08:06:18.108000     0\n",
        "2013-12-26 08:06:18.608000     1\n",
        "2013-12-26 08:06:19.203000     0\n",
        "2013-12-26 08:06:19.703000     0\n",
        "2013-12-26 08:06:20.203000     1\n",
        "2013-12-26 08:06:20.655000     0\n",
        "2013-12-26 08:06:21.155000     0\n",
        "2013-12-26 08:06:21.655000     0\n",
        "2013-12-26 08:06:22.155000     1\n",
        "2013-12-26 08:06:22.750000     0"
       ]
      }
     ],
     "prompt_number": 61
    },
    {
     "cell_type": "code",
     "collapsed": false,
     "input": [
      "logfile = logfile[:-13]\n",
      "logfile.event = logfile.event.apply(lambda x: int(x))"
     ],
     "language": "python",
     "metadata": {},
     "outputs": [],
     "prompt_number": 62
    },
    {
     "cell_type": "code",
     "collapsed": false,
     "input": [
      "%pylab inline"
     ],
     "language": "python",
     "metadata": {},
     "outputs": [
      {
       "output_type": "stream",
       "stream": "stdout",
       "text": [
        "Populating the interactive namespace from numpy and matplotlib\n"
       ]
      }
     ],
     "prompt_number": 7
    },
    {
     "cell_type": "code",
     "collapsed": false,
     "input": [
      "logfile.plot(figsize=(16, 8), style='x-')"
     ],
     "language": "python",
     "metadata": {},
     "outputs": [
      {
       "metadata": {},
       "output_type": "pyout",
       "prompt_number": 70,
       "text": [
        "<matplotlib.axes.AxesSubplot at 0x7543a50>"
       ]
      },
      {
       "metadata": {},
       "output_type": "display_data",
       "png": "[encoded data removed]",
       "text": [
        "<matplotlib.figure.Figure at 0x783aa70>"
       ]
      }
     ],
     "prompt_number": 70
    },
    {
     "cell_type": "code",
     "collapsed": false,
     "input": [],
     "language": "python",
     "metadata": {},
     "outputs": []
    }
   ],
   "metadata": {}
  }
 ]
}