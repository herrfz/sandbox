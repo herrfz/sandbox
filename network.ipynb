{
 "cells": [
  {
   "cell_type": "code",
   "execution_count": 1,
   "metadata": {},
   "outputs": [],
   "source": [
    "import random\n",
    "import networkx as nx\n",
    "import matplotlib.pyplot as plt"
   ]
  },
  {
   "cell_type": "code",
   "execution_count": 28,
   "metadata": {},
   "outputs": [],
   "source": [
    "data = [\n",
    "    ('ed:af:38:91:bb:31', 'ca:87:d3:43:94:9d', '5c:6d:01:1f:e1:a7'),\n",
    "    ('ca:87:d3:43:94:9d', '5c:6d:01:1f:e1:a7', '2d:28:b7:f5:b6:e3'),\n",
    "    ('41:3a:fd:4b:e7:f8', 'b5:7d:ce:16:76:a4', '72:4f:78:40:21:a7'),\n",
    "    ('a4:86:7f:79:1f:16', '41:3a:fd:4b:e7:f8', 'b5:7d:ce:16:76:a4'),\n",
    "    ('50:00:22:d0:3e:a0', 'a4:83:2d:46:c0:9e', '35:39:fa:4b:1c:54'),\n",
    "    ('35:39:fa:4b:1c:54', '7d:11:7e:fd:5a:27', '52:05:3f:95:41:e3'),\n",
    "    ('7d:11:7e:fd:5a:27', '52:05:3f:95:41:e3', 'ed:af:38:91:bb:31'),\n",
    "]"
   ]
  },
  {
   "cell_type": "code",
   "execution_count": 38,
   "metadata": {},
   "outputs": [],
   "source": [
    "data = [\n",
    "    ('ed:af:38:91:bb:31', 'ca:87:d3:43:94:9d', '5c:6d:01:1f:e1:a7'),\n",
    "    ('ca:87:d3:43:94:9d', '5c:6d:01:1f:e1:a7', '2d:28:b7:f5:b6:e3'),\n",
    "    ('5c:6d:01:1f:e1:a7', '2d:28:b7:f5:b6:e3', '72:4f:78:40:21:a7'),\n",
    "    ('2d:28:b7:f5:b6:e3', '72:4f:78:40:21:a7', 'b5:7d:ce:16:76:a4'),\n",
    "    ('72:4f:78:40:21:a7', 'b5:7d:ce:16:76:a4', '35:39:fa:4b:1c:54'),\n",
    "    ('b5:7d:ce:16:76:a4', '35:39:fa:4b:1c:54', '52:05:3f:95:41:e3'),\n",
    "    ('7d:11:7e:fd:5a:27', '52:05:3f:95:41:e3', 'ed:af:38:91:bb:31'),\n",
    "]"
   ]
  },
  {
   "cell_type": "code",
   "execution_count": 39,
   "metadata": {},
   "outputs": [],
   "source": [
    "def construct_graph(data):\n",
    "    # structure: [(own, {prev, next}), ... ]\n",
    "    macs = [(x[1], {'prev': x[0], 'next': x[2]}) for x in data]\n",
    "    \n",
    "    G = nx.DiGraph()\n",
    "    G.add_nodes_from(macs)\n",
    "\n",
    "    for n1, data in G.nodes(data=True):\n",
    "        for n2, data in G.nodes(data=True):\n",
    "            if n2 == G.nodes[n1]['next']:\n",
    "                G.add_edge(n1, n2)\n",
    "                \n",
    "    return G"
   ]
  },
  {
   "cell_type": "code",
   "execution_count": 48,
   "metadata": {},
   "outputs": [],
   "source": [
    "random.shuffle(data)\n",
    "\n",
    "G = construct_graph(data)"
   ]
  },
  {
   "cell_type": "code",
   "execution_count": 49,
   "metadata": {},
   "outputs": [
    {
     "data": {
      "image/png": "[encoded data removed]",
      "text/plain": [
       "<Figure size 432x288 with 1 Axes>"
      ]
     },
     "metadata": {},
     "output_type": "display_data"
    }
   ],
   "source": [
    "nx.draw(G, with_labels=True)"
   ]
  },
  {
   "cell_type": "code",
   "execution_count": 50,
   "metadata": {},
   "outputs": [
    {
     "data": {
      "text/plain": [
       "True"
      ]
     },
     "execution_count": 50,
     "metadata": {},
     "output_type": "execute_result"
    }
   ],
   "source": [
    "nx.is_weakly_connected(G)"
   ]
  },
  {
   "cell_type": "code",
   "execution_count": 51,
   "metadata": {},
   "outputs": [
    {
     "name": "stdout",
     "output_type": "stream",
     "text": [
      "0 ca:87:d3:43:94:9d\n",
      "1 5c:6d:01:1f:e1:a7\n",
      "2 2d:28:b7:f5:b6:e3\n",
      "3 72:4f:78:40:21:a7\n",
      "4 b5:7d:ce:16:76:a4\n",
      "5 35:39:fa:4b:1c:54\n",
      "6 52:05:3f:95:41:e3\n"
     ]
    }
   ],
   "source": [
    "ordered_macs = [x for x in nx.topological_sort(G)]\n",
    "\n",
    "for i, mac in enumerate(ordered_macs):\n",
    "    print(i, mac)"
   ]
  },
  {
   "cell_type": "code",
   "execution_count": null,
   "metadata": {},
   "outputs": [],
   "source": []
  }
 ],
 "metadata": {
  "kernelspec": {
   "display_name": "Python 3",
   "language": "python",
   "name": "python3"
  },
  "language_info": {
   "codemirror_mode": {
    "name": "ipython",
    "version": 3
   },
   "file_extension": ".py",
   "mimetype": "text/x-python",
   "name": "python",
   "nbconvert_exporter": "python",
   "pygments_lexer": "ipython3",
   "version": "3.7.4"
  }
 },
 "nbformat": 4,
 "nbformat_minor": 4
}
