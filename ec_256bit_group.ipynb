{
 "metadata": {
  "name": ""
 },
 "nbformat": 3,
 "nbformat_minor": 0,
 "worksheets": [
  {
   "cells": [
    {
     "cell_type": "code",
     "collapsed": false,
     "input": [
      "%load_ext cythonmagic"
     ],
     "language": "python",
     "metadata": {},
     "outputs": [],
     "prompt_number": 1
    },
    {
     "cell_type": "code",
     "collapsed": false,
     "input": [
      "import json\n",
      "\n",
      "with open('ecp_256_nist.txt') as f:\n",
      "    params = json.load(f)\n",
      "    \n",
      "for k in params:\n",
      "    if k != 'eq':\n",
      "        params[k] = int(params[k], 16)"
     ],
     "language": "python",
     "metadata": {},
     "outputs": [],
     "prompt_number": 2
    },
    {
     "cell_type": "code",
     "collapsed": false,
     "input": [
      "# Fermat\n",
      "pow(params['gx'], params['p'] - 1, params['p'])"
     ],
     "language": "python",
     "metadata": {},
     "outputs": [
      {
       "metadata": {},
       "output_type": "pyout",
       "prompt_number": 3,
       "text": [
        "1L"
       ]
      }
     ],
     "prompt_number": 3
    },
    {
     "cell_type": "code",
     "collapsed": false,
     "input": [
      "params['eq']"
     ],
     "language": "python",
     "metadata": {},
     "outputs": [
      {
       "metadata": {},
       "output_type": "pyout",
       "prompt_number": 4,
       "text": [
        "u'y^2=x^3-3x+b(modp)'"
       ]
      }
     ],
     "prompt_number": 4
    },
    {
     "cell_type": "code",
     "collapsed": false,
     "input": [
      "%%cython\n",
      "# --- ELLIPTIC CURVE MATH ------------------------------------------------------\n",
      "#\n",
      "#   curve definition:   y^2 = x^3 - p*x - q\n",
      "#   over finite field:  Z/nZ* (prime residue classes modulo a prime number n)\n",
      "#\n",
      "#\n",
      "#   COPYRIGHT (c) 2010 by Toni Mattis <solaris@live.de>\n",
      "# ------------------------------------------------------------------------------\n",
      "\n",
      "'''\n",
      "Module for elliptic curve arithmetic over a prime field GF(n).\n",
      "E(GF(n)) takes the form y**2 == x**3 - p*x - q (mod n) for a prime n.\n",
      "\n",
      "0. Structures used by this module\n",
      "\n",
      "    PARAMETERS and SCALARS are non-negative (long) integers.\n",
      "\n",
      "    A POINT (x, y), usually denoted p1, p2, ...\n",
      "    is a pair of (long) integers where 0 <= x < n and 0 <= y < n\n",
      "\n",
      "    A POINT in PROJECTIVE COORDINATES, usually denoted jp1, jp2, ...\n",
      "    takes the form (X, Y, Z, Z**2, Z**3) where x = X / Z**2\n",
      "    and y = Y / z**3. This form is called Jacobian coordinates.\n",
      "\n",
      "    The NEUTRAL element \"0\" or \"O\" is represented by None\n",
      "    in both coordinate systems.\n",
      "\n",
      "1. Basic Functions\n",
      "\n",
      "    euclid()            Is the Extended Euclidean Algorithm.\n",
      "    inv()               Computes the multiplicative inversion modulo n.\n",
      "    curve_q()           Finds the curve parameter q (mod n)\n",
      "                        when p and a point are given.\n",
      "    element()           Tests whether a point (x, y) is on the curve.\n",
      "\n",
      "2. Point transformations\n",
      "\n",
      "    to_projective()     Converts a point (x, y) to projective coordinates.\n",
      "    from_projective()   Converts a point from projective coordinates\n",
      "                        to (x, y) using the transformation described above.\n",
      "    neg()               Computes the inverse point -P in both coordinate\n",
      "                        systems.\n",
      "\n",
      "3. Slow point arithmetic\n",
      "\n",
      "    These algorithms make use of basic geometry and modular arithmetic\n",
      "    thus being suitable for small numbers and academic study.\n",
      "\n",
      "    add()               Computes the sum of two (x, y)-points\n",
      "    mul()               Perform scalar multiplication using \"double & add\"\n",
      "\n",
      "4. Fast point arithmetic\n",
      "\n",
      "    These algorithms make use of projective coordinates, signed binary\n",
      "    expansion and a JSP-like approach (joint sparse form).\n",
      "\n",
      "    The following functions consume and return projective coordinates:\n",
      "\n",
      "    addf()              Optimized point addition.\n",
      "    doublef()           Optimized point doubling.\n",
      "    mulf()              Highly optimized scalar multiplication.\n",
      "    muladdf()           Highly optimized addition of two products.\n",
      "    \n",
      "    The following functions use the optimized ones above but consume\n",
      "    and output (x, y)-coordinates for a more convenient usage:\n",
      "\n",
      "    mulp()              Encapsulates mulf()\n",
      "    muladdp()           Encapsulates muladdf()\n",
      "\n",
      "    For single additions add() is generally faster than an encapsulation of\n",
      "    addf() which would involve expensive coordinate transformations.\n",
      "    Hence there is no addp() and doublep().\n",
      "'''\n",
      "\n",
      "# BASIC MATH -------------------------------------------------------------------\n",
      "\n",
      "def euclid(a, b):\n",
      "    '''Solve x*a + y*b = ggt(a, b) and return (x, y, ggt(a, b))'''\n",
      "    # Non-recursive approach hence suitable for large numbers    \n",
      "    x = yy = 0\n",
      "    y = xx = 1\n",
      "    while b:\n",
      "        q = a // b\n",
      "        a, b = b, a % b\n",
      "        x, xx = xx - q * x, x\n",
      "        y, yy = yy - q * y, y\n",
      "    return xx, yy, a\n",
      "\n",
      "def inv(a, n):\n",
      "    '''Perform inversion 1/a modulo n. a and n should be COPRIME.'''\n",
      "    # coprimality is not checked here in favour of performance\n",
      "    i = euclid(a, n)[0]\n",
      "    while i < 0:\n",
      "        i += n\n",
      "    return i\n",
      "\n",
      "def curve_q(x, y, p, n):\n",
      "    '''Find curve parameter q mod n having point (x, y) and parameter p'''\n",
      "    return ((x * x - p) * x - y * y) % n\n",
      "\n",
      "def element(point, p, q, n):\n",
      "    '''Test, whether the given point is on the curve (p, q, n)'''\n",
      "    if point:\n",
      "        x, y = point\n",
      "        return (x * x * x + p * x + q) % n == (y * y) % n\n",
      "    else:\n",
      "        return True\n",
      "\n",
      "def to_projective(p):\n",
      "    '''Transform point p given as (x, y) to projective coordinates'''\n",
      "    if p:\n",
      "        return (p[0], p[1], 1, 1, 1)\n",
      "    else:\n",
      "        return None     # Identity point (0)\n",
      "\n",
      "def from_projective(jp, n):\n",
      "    '''Transform a point from projective coordinates to (x, y) mod n'''\n",
      "    if jp:\n",
      "        return (jp[0] * inv(jp[3], n)) % n, (jp[1] * inv(jp[4], n)) % n\n",
      "    else:\n",
      "        return None     # Identity point (0)\n",
      "\n",
      "def neg(p, n):\n",
      "    '''Compute the inverse point to p in any coordinate system'''\n",
      "    return (p[0], (n - p[1]) % n) + p[2:] if p else None\n",
      "\n",
      "\n",
      "# POINT ADDITION ---------------------------------------------------------------\n",
      "\n",
      "# addition of points in y**2 = x**3 - p*x - q over <Z/nZ*; +>\n",
      "def add(p, q, n, p1, p2):\n",
      "    '''Add points p1 and p2 over curve (p, q, n)'''\n",
      "    if p1 and p2:\n",
      "        x1, y1 = p1\n",
      "        x2, y2 = p2\n",
      "        if (x1 - x2) % n:\n",
      "            s = ((y1 - y2) * inv(x1 - x2, n)) % n   # slope\n",
      "            x = (s * s - x1 - x2) % n               # intersection with curve\n",
      "            return (x, n - (y1 + s * (x - x1)) % n)\n",
      "        else:\n",
      "            if (y1 + y2) % n:       # slope s calculated by derivation\n",
      "                s = ((3 * x1 * x1 - p) * inv(2 * y1, n)) % n\n",
      "                x = (s * s - 2 * x1) % n            # intersection with curve\n",
      "                return (x, n - (y1 + s * (x - x1)) % n)\n",
      "            else:\n",
      "                return None\n",
      "    else:   # either p1 is not none -> ret. p1, otherwiese p2, which may be\n",
      "        return p1 if p1 else p2     # none too.\n",
      "\n",
      "\n",
      "# faster addition: redundancy in projective coordinates eliminates\n",
      "# expensive inversions mod n.\n",
      "def addf(p, q, n, jp1, jp2):\n",
      "    '''Add jp1 and jp2 in projective (jacobian) coordinates.'''\n",
      "    if jp1 and jp2:\n",
      "        \n",
      "        x1, y1, z1, z1s, z1c = jp1\n",
      "        x2, y2, z2, z2s, z2c = jp2\n",
      "\n",
      "        s1 = (y1 * z2c) % n\n",
      "        s2 = (y2 * z1c) % n\n",
      "\n",
      "        u1 = (x1 * z2s) % n\n",
      "        u2 = (x2 * z1s) % n\n",
      "\n",
      "        if (u1 - u2) % n:\n",
      "\n",
      "            h = (u2 - u1) % n\n",
      "            r = (s2 - s1) % n\n",
      "\n",
      "            hs = (h * h) % n\n",
      "            hc = (hs * h) % n\n",
      "\n",
      "            x3 = (-hc - 2 * u1 * hs + r * r) % n\n",
      "            y3 = (-s1 * hc + r * (u1 * hs - x3)) % n\n",
      "            z3 = (z1 * z2 * h) % n\n",
      "            \n",
      "            z3s = (z3 * z3) % n\n",
      "            z3c = (z3s * z3) % n\n",
      "    \n",
      "            return (x3, y3, z3, z3s, z3c)\n",
      "        \n",
      "        else:\n",
      "            if (s1 + s2) % n:\n",
      "                return doublef(p, q, n, jp1)\n",
      "            else:\n",
      "                return None\n",
      "    else:\n",
      "        return jp1 if jp1 else jp2\n",
      "\n",
      "# explicit point doubling using redundant coordinates\n",
      "def doublef(p, q, n, jp):\n",
      "    '''Double jp in projective (jacobian) coordinates'''\n",
      "    if not jp:\n",
      "        return None\n",
      "    x1, y1, z1, z1p2, z1p3 = jp\n",
      "    \n",
      "    y1p2 = (y1 * y1) % n\n",
      "    a = (4 * x1 * y1p2) % n\n",
      "    b = (3 * x1 * x1 - p * z1p3 * z1) % n\n",
      "    x3 = (b * b - 2 * a) % n\n",
      "    y3 = (b * (a - x3) - 8 * y1p2 * y1p2) % n\n",
      "    z3 = (2 * y1 * z1) % n\n",
      "    z3p2 = (z3 * z3) % n\n",
      "    \n",
      "    return x3, y3, z3, z3p2, (z3p2 * z3) % n\n",
      "\n",
      "\n",
      "# SCALAR MULTIPLICATION --------------------------------------------------------\n",
      "\n",
      "# scalar multiplication p1 * c = p1 + p1 + ... + p1 (c times) in O(log(n))\n",
      "def mul(p, q, n, p1, c):\n",
      "    '''multiply point p1 by scalar c over curve (p, q, n)'''\n",
      "    res = None\n",
      "    while c > 0:\n",
      "        if c & 1:\n",
      "            res = add(p, q, n, res, p1)\n",
      "        c >>= 1                     # c = c / 2\n",
      "        p1 = add(p, q, n, p1, p1)   # p1 = p1 * 2\n",
      "    return res\n",
      "\n",
      "\n",
      "# this method allows _signed_bin() to choose between 1 and -1. It will select\n",
      "# the sign which leaves the higher number of zeroes in the binary\n",
      "# representation (the higher GDB).\n",
      "def _gbd(n):\n",
      "    '''Compute second greatest base-2 divisor'''\n",
      "    i = 1\n",
      "    if n <= 0: return 0\n",
      "    while not n % i:\n",
      "        i <<= 1\n",
      "    return i >> 2\n",
      "\n",
      "\n",
      "# This method transforms n into a binary representation having signed bits.\n",
      "# A signed binary expansion contains more zero-bits hence reducing the number\n",
      "# of additions required by a multiplication algorithm.\n",
      "#\n",
      "# Example:  15 ( 0b1111 ) can be written as 16 - 1, resulting in (1,0,0,0,-1)\n",
      "#           and saving 2 additions. Subtraction can be performed as\n",
      "#           efficiently as addition.\n",
      "def _signed_bin(n):\n",
      "    '''Transform n into an optimized signed binary representation'''\n",
      "    r = []\n",
      "    while n > 1:\n",
      "        if n & 1:\n",
      "            cp = _gbd(n + 1) \n",
      "            cn = _gbd(n - 1)\n",
      "            if cp > cn:         # -1 leaves more zeroes -> subtract -1 (= +1)\n",
      "                r.append(-1)\n",
      "                n += 1\n",
      "            else:               # +1 leaves more zeroes -> subtract +1 (= -1)\n",
      "                r.append(+1)\n",
      "                n -= 1\n",
      "        else:\n",
      "            r.append(0)         # be glad about one more zero\n",
      "        n >>= 1\n",
      "    r.append(n)\n",
      "    return r[::-1]\n",
      "\n",
      "\n",
      "# This multiplication algorithm combines signed binary expansion and\n",
      "# fast addition using projective coordinates resulting in 5 to 10 times\n",
      "# faster multiplication.\n",
      "def mulf(p, q, n, jp1, c):\n",
      "    '''Multiply point jp1 by c in projective coordinates'''\n",
      "    sb = _signed_bin(c)\n",
      "    res = None\n",
      "    jp0 = neg(jp1, n)  # additive inverse of jp1 to be used fot bit -1\n",
      "    for s in sb:\n",
      "        res = doublef(p, q, n, res)\n",
      "        if s:\n",
      "            res = addf(p, q, n, res, jp1) if s > 0 else \\\n",
      "                  addf(p, q, n, res, jp0)\n",
      "    return res\n",
      "\n",
      "# Encapsulates mulf() in order to enable flat coordinates (x, y)\n",
      "def mulp(p, q, n, p1, c):\n",
      "    '''Multiply point p by c using fast multiplication'''\n",
      "    return from_projective(mulf(p, q, n, to_projective(p1), c), n)\n",
      "\n",
      "\n",
      "# Sum of two products using Shamir's trick and signed binary expansion\n",
      "def muladdf(p, q, n, jp1, c1, jp2, c2):\n",
      "    '''Efficiently compute c1 * jp1 + c2 * jp2 in projective coordinates'''\n",
      "    s1 = _signed_bin(c1)\n",
      "    s2 = _signed_bin(c2)\n",
      "    diff = len(s2) - len(s1)\n",
      "    if diff > 0:\n",
      "        s1 = [0] * diff + s1\n",
      "    elif diff < 0:\n",
      "        s2 = [0] * -diff + s2\n",
      "\n",
      "    jp1p2 = addf(p, q, n, jp1, jp2)\n",
      "    jp1n2 = addf(p, q, n, jp1, neg(jp2, n))\n",
      "\n",
      "    precomp = ((None,           jp2,            neg(jp2, n)),\n",
      "               (jp1,            jp1p2,          jp1n2),\n",
      "               (neg(jp1, n),    neg(jp1n2, n),  neg(jp1p2, n)))\n",
      "    res = None\n",
      "\n",
      "    for i, j in zip(s1, s2):\n",
      "        res = doublef(p, q, n, res)\n",
      "        if i or j:\n",
      "            res = addf(p, q, n, res, precomp[i][j])\n",
      "    return res\n",
      "\n",
      "# Encapsulate muladdf()\n",
      "def muladdp(p, q, n, p1, c1, p2, c2):\n",
      "    '''Efficiently compute c1 * p1 + c2 * p2 in (x, y)-coordinates'''\n",
      "    return from_projective(muladdf(p, q, n,\n",
      "                                   to_projective(p1), c1,\n",
      "                                   to_projective(p2), c2), n)\n",
      "\n",
      "# POINT COMPRESSION ------------------------------------------------------------\n",
      "\n",
      "# Compute the square root modulo n\n",
      "\n",
      "\n",
      "# Determine the sign-bit of a point allowing to reconstruct y-coordinates\n",
      "# when x and the sign-bit are given:\n",
      "def sign_bit(p1):\n",
      "    '''Return the signedness of a point p1'''\n",
      "    return p1[1] % 2 if p1 else 0\n",
      "\n",
      "# Reconstruct the y-coordinate when curve parameters, x and the sign-bit of\n",
      "# the y coordinate are given:\n",
      "def y_from_x(x, p, q, n, sign):\n",
      "    '''Return the y coordinate over curve (p, q, n) for given (x, sign)'''\n",
      "\n",
      "    # optimized form of (x**3 - p*x - q) % n\n",
      "    a = (((x * x) % n - p) * x - q) % n"
     ],
     "language": "python",
     "metadata": {},
     "outputs": [],
     "prompt_number": 5
    },
    {
     "cell_type": "code",
     "collapsed": false,
     "input": [
      "point = (params['gx'], params['gy'])\n",
      "element(point, params['a'], params['b'], params['p'])"
     ],
     "language": "python",
     "metadata": {},
     "outputs": [
      {
       "metadata": {},
       "output_type": "pyout",
       "prompt_number": 6,
       "text": [
        "True"
       ]
      }
     ],
     "prompt_number": 6
    },
    {
     "cell_type": "code",
     "collapsed": false,
     "input": [
      "len(bin(114567812354646464648768767456599098772345436557432178655690321459032156743298)[2:])"
     ],
     "language": "python",
     "metadata": {},
     "outputs": [
      {
       "metadata": {},
       "output_type": "pyout",
       "prompt_number": 7,
       "text": [
        "256"
       ]
      }
     ],
     "prompt_number": 7
    },
    {
     "cell_type": "code",
     "collapsed": false,
     "input": [
      "priv_a = 114567812354646464648768767456599098772345436557432178655690321459032156743298\n",
      "pub_a = mulp(params['a'], params['b'], params['p'], point, priv_a)\n",
      "%timeit mulp(params['a'], params['b'], params['p'], point, priv_a)"
     ],
     "language": "python",
     "metadata": {},
     "outputs": [
      {
       "output_type": "stream",
       "stream": "stdout",
       "text": [
        "100 loops, best of 3: 7.42 ms per loop\n"
       ]
      }
     ],
     "prompt_number": 12
    },
    {
     "cell_type": "code",
     "collapsed": false,
     "input": [
      "# ????\n",
      "element(pub_a, params['a'], params['b'], params['p'])"
     ],
     "language": "python",
     "metadata": {},
     "outputs": [
      {
       "metadata": {},
       "output_type": "pyout",
       "prompt_number": 13,
       "text": [
        "False"
       ]
      }
     ],
     "prompt_number": 13
    },
    {
     "cell_type": "code",
     "collapsed": false,
     "input": [
      "priv_b = 114567812354646464648768767456599098772345436557432178655695421459032156743298\n",
      "pub_b = mulp(params['a'], params['b'], params['p'], point, priv_b)\n",
      "secret_b = mulp(params['a'], params['b'], params['p'], pub_a, priv_b)\n",
      "%timeit mulp(params['a'], params['b'], params['p'], pub_a, priv_b)"
     ],
     "language": "python",
     "metadata": {},
     "outputs": [
      {
       "output_type": "stream",
       "stream": "stdout",
       "text": [
        "100 loops, best of 3: 7.34 ms per loop\n"
       ]
      }
     ],
     "prompt_number": 14
    },
    {
     "cell_type": "code",
     "collapsed": false,
     "input": [
      "secret_b"
     ],
     "language": "python",
     "metadata": {},
     "outputs": [
      {
       "metadata": {},
       "output_type": "pyout",
       "prompt_number": 15,
       "text": [
        "(3691689594858469960492451939000204156826785793940737023695018443474398315715L,\n",
        " 51725525135905895902236165473849597023046249123628380801823579043316919945708L)"
       ]
      }
     ],
     "prompt_number": 15
    },
    {
     "cell_type": "code",
     "collapsed": false,
     "input": [
      "secret_a = mulp(params['a'], params['b'], params['p'], pub_b, priv_a)\n",
      "secret_a"
     ],
     "language": "python",
     "metadata": {},
     "outputs": [
      {
       "metadata": {},
       "output_type": "pyout",
       "prompt_number": 16,
       "text": [
        "(3691689594858469960492451939000204156826785793940737023695018443474398315715L,\n",
        " 51725525135905895902236165473849597023046249123628380801823579043316919945708L)"
       ]
      }
     ],
     "prompt_number": 16
    },
    {
     "cell_type": "code",
     "collapsed": false,
     "input": [
      "secret_a == secret_b"
     ],
     "language": "python",
     "metadata": {},
     "outputs": [
      {
       "metadata": {},
       "output_type": "pyout",
       "prompt_number": 17,
       "text": [
        "True"
       ]
      }
     ],
     "prompt_number": 17
    },
    {
     "cell_type": "code",
     "collapsed": false,
     "input": [],
     "language": "python",
     "metadata": {},
     "outputs": []
    }
   ],
   "metadata": {}
  }
 ]
}