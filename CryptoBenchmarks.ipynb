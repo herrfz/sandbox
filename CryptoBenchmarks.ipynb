{
 "metadata": {
  "name": ""
 },
 "nbformat": 3,
 "nbformat_minor": 0,
 "worksheets": [
  {
   "cells": [
    {
     "cell_type": "heading",
     "level": 2,
     "metadata": {},
     "source": [
      "Crypto performance benchmark"
     ]
    },
    {
     "cell_type": "markdown",
     "metadata": {},
     "source": [
      "Measured on my laptop:\n",
      "\n",
      "* Microsoft Windows XP Professional Service Pack 3\n",
      "* Intel(R) Core(TM) i7 M640 CPU 4 cores @2.80 GHz\n",
      "* 2.98 GB RAM (I think it's actually 4 GB, but limited by XP's 32-bit)"
     ]
    },
    {
     "cell_type": "code",
     "collapsed": false,
     "input": [
      "%pylab --no-import-all"
     ],
     "language": "python",
     "metadata": {},
     "outputs": [
      {
       "output_type": "stream",
       "stream": "stdout",
       "text": [
        "Using matplotlib backend: module://IPython.kernel.zmq.pylab.backend_inline\n",
        "Populating the interactive namespace from numpy and matplotlib\n"
       ]
      }
     ],
     "prompt_number": 138
    },
    {
     "cell_type": "code",
     "collapsed": false,
     "input": [
      "from Crypto.Cipher import AES\n",
      "from Crypto import Random\n",
      "\n",
      "# AES: \n",
      "# - 128 bits block size (16 Bytes)\n",
      "# - 128, 192 and 256 bits key sizes. (16, 24, 32 Bytes)\n",
      "BLOCK_SIZE = 16\n",
      "KEY_SIZE = 32\n",
      "mode = AES.MODE_CBC\n",
      "\n",
      "# standardized padding TBD, e.g. PKCS#7 or PKCS#5\n",
      "PADDING = '{'\n",
      "pad = lambda s: s + (BLOCK_SIZE - len(s) % BLOCK_SIZE) * PADDING\n",
      "\n",
      "EncodeAES = lambda c, s: c.encrypt(pad(s))\n",
      "DecodeAES = lambda c, e: c.decrypt(e).rstrip(PADDING)"
     ],
     "language": "python",
     "metadata": {},
     "outputs": [],
     "prompt_number": 133
    },
    {
     "cell_type": "code",
     "collapsed": false,
     "input": [
      "# generate a random secret key\n",
      "key = Random.new().read(KEY_SIZE)\n",
      "# generate a random IV\n",
      "iv_bytes = Random.new().read(BLOCK_SIZE)\n",
      "# create a cipher object using the random key and IV\n",
      "cipher = AES.new(key, mode, iv_bytes)"
     ],
     "language": "python",
     "metadata": {},
     "outputs": [],
     "prompt_number": 134
    },
    {
     "cell_type": "heading",
     "level": 3,
     "metadata": {},
     "source": [
      "Encryption benchmarks"
     ]
    },
    {
     "cell_type": "code",
     "collapsed": false,
     "input": [
      "# measure latency of encrypting one message \n",
      "# for various message lengths (N = number of characters)\n",
      "N = 100\n",
      "%timeit encoded = EncodeAES(cipher, 'c' * N)"
     ],
     "language": "python",
     "metadata": {},
     "outputs": [
      {
       "output_type": "stream",
       "stream": "stdout",
       "text": [
        "100000 loops, best of 3: 2.89 \u00b5s per loop\n"
       ]
      }
     ],
     "prompt_number": 135
    },
    {
     "cell_type": "code",
     "collapsed": false,
     "input": [
      "# numbers manually typed in\n",
      "N = [1, 10, 100, 1000, 10000]\n",
      "times = [1.65, 2.29, 2.62, 12.1, 95.9] # microseconds\n",
      "\n",
      "plot(N, times, 'x-')\n",
      "xscale('log')\n",
      "yscale('log')\n",
      "xlabel('number of characters')\n",
      "ylabel('encoding time ($\\mu$s)')"
     ],
     "language": "python",
     "metadata": {},
     "outputs": [
      {
       "metadata": {},
       "output_type": "pyout",
       "prompt_number": 139,
       "text": [
        "<matplotlib.text.Text at 0x4128f90>"
       ]
      },
      {
       "metadata": {},
       "output_type": "display_data",
       "png": "[encoded data removed]",
       "text": [
        "<matplotlib.figure.Figure at 0x3b97f30>"
       ]
      }
     ],
     "prompt_number": 139
    },
    {
     "cell_type": "code",
     "collapsed": false,
     "input": [
      "%%timeit\n",
      "# measure latency of encrypting M messages of N characters each\n",
      "# encryption of M messages is simply done by repeating M times\n",
      "M = 1000 # messages\n",
      "N = 100 # characters / Bytes\n",
      "#sleep = 1e-4 # seconds\n",
      "for i in xrange(M):\n",
      "    encoded = EncodeAES(cipher, 'c' * N)\n",
      "    #time.sleep(sleep) # artificially add arbitrary delay"
     ],
     "language": "python",
     "metadata": {},
     "outputs": [
      {
       "output_type": "stream",
       "stream": "stdout",
       "text": [
        "100 loops, best of 3: 3.11 ms per loop\n"
       ]
      }
     ],
     "prompt_number": 20
    },
    {
     "cell_type": "code",
     "collapsed": false,
     "input": [
      "# numbers manually typed in\n",
      "M = [10, 100, 1000, 10000]\n",
      "times = [46.1, 441, 4110, 32800] # microseconds\n",
      "\n",
      "plot(M, times, 'x-')\n",
      "xscale('log')\n",
      "yscale('log')\n",
      "xlabel('number of encoded messages')\n",
      "ylabel('encoding time ($\\mu$s)')"
     ],
     "language": "python",
     "metadata": {},
     "outputs": [
      {
       "metadata": {},
       "output_type": "pyout",
       "prompt_number": 16,
       "text": [
        "<matplotlib.text.Text at 0x401b9b0>"
       ]
      },
      {
       "metadata": {},
       "output_type": "display_data",
       "png": "[encoded data removed]",
       "text": [
        "<matplotlib.figure.Figure at 0x4055830>"
       ]
      }
     ],
     "prompt_number": 16
    },
    {
     "cell_type": "heading",
     "level": 3,
     "metadata": {},
     "source": [
      "Decryption benchmarks"
     ]
    },
    {
     "cell_type": "code",
     "collapsed": false,
     "input": [
      "# generate a random secret key\n",
      "key = Random.new().read(KEY_SIZE)\n",
      "# generate a random IV\n",
      "iv_bytes = Random.new().read(BLOCK_SIZE)\n",
      "# create a cipher object using the random key and IV\n",
      "cipher = AES.new(key, mode, iv_bytes)\n",
      "\n",
      "# decode the encoded string\n",
      "N = 100\n",
      "encoded = EncodeAES(cipher, 'c' * N)\n",
      "\n",
      "%timeit decoded = DecodeAES(cipher, iv_bytes + encoded)[len(iv_bytes):]\n",
      "# decoded = DecodeAES(cipher, iv_bytes + encoded)[len(iv_bytes):]\n",
      "# print 'Decrypted string:', decoded"
     ],
     "language": "python",
     "metadata": {},
     "outputs": [
      {
       "output_type": "stream",
       "stream": "stdout",
       "text": [
        "100000 loops, best of 3: 2.78 \u00b5s per loop\n"
       ]
      }
     ],
     "prompt_number": 9
    },
    {
     "cell_type": "code",
     "collapsed": false,
     "input": [
      "%%timeit\n",
      "M = 1000\n",
      "#sleep = 1e-4\n",
      "for i in xrange(M):\n",
      "    decoded = DecodeAES(cipher, iv_bytes + encoded)\n",
      "    #time.sleep(sleep)"
     ],
     "language": "python",
     "metadata": {},
     "outputs": [
      {
       "output_type": "stream",
       "stream": "stdout",
       "text": [
        "1 loops, best of 3: 93.1 ms per loop\n"
       ]
      }
     ],
     "prompt_number": 19
    },
    {
     "cell_type": "heading",
     "level": 3,
     "metadata": {},
     "source": [
      "Keyed-hashing benchmark"
     ]
    },
    {
     "cell_type": "code",
     "collapsed": false,
     "input": [
      "from hashlib import sha256\n",
      "from hmac import new as hmac\n",
      "\n",
      "key = bin(Crypto.Random.random.getrandbits(256))\n",
      "message = 'c' * 100\n",
      "\n",
      "# the length of this will be 32 Bytes or 256 bits\n",
      "%timeit hmac(key, message, sha256).digest()"
     ],
     "language": "python",
     "metadata": {},
     "outputs": [
      {
       "output_type": "stream",
       "stream": "stdout",
       "text": [
        "10000 loops, best of 3: 16.8 \u00b5s per loop\n"
       ]
      }
     ],
     "prompt_number": 198
    },
    {
     "cell_type": "heading",
     "level": 3,
     "metadata": {},
     "source": [
      "Diffie Hellman benchmark"
     ]
    },
    {
     "cell_type": "code",
     "collapsed": false,
     "input": [
      "#!/usr/bin/env python\n",
      "'''\n",
      "code from: http://blog.markloiseau.com/2013/01/diffie-hellman-tutorial-in-python/\n",
      "'''\n",
      "from binascii import hexlify\n",
      "import hashlib\n",
      "\n",
      "# If a secure random number generator is unavailable, exit with an error.\n",
      "try:\n",
      "\timport Crypto.Random.random\n",
      "\tsecure_random = Crypto.Random.random.getrandbits\n",
      "except ImportError:\n",
      "\timport OpenSSL\n",
      "\tsecure_random = lambda x: long(hexlify(OpenSSL.rand.bytes(x>>3)), 16)\n",
      "\n",
      "class DiffieHellman(object):\n",
      "    \"\"\"\n",
      "\tAn implementation of the Diffie-Hellman protocol.\n",
      "\tThis class uses primes in MODP Group from RFC 3526, stored in the prime_file.\n",
      "\t\"\"\"\n",
      "    def __init__(self, prime_file='3072bit_prime.txt', private_key_len=256):\n",
      "        \"\"\"\n",
      "        Generate the public and private keys.\n",
      "        \"\"\"\n",
      "        with open(prime_file, 'r') as f: \n",
      "            self.prime = int(f.read().replace(' ', '').replace('\\n', ''), 16)\n",
      "        \n",
      "        self.generator = 2\n",
      "        self.privateKey = self.genPrivateKey(private_key_len)\n",
      "        self.publicKey = self.genPublicKey()\n",
      "\n",
      "    def genPrivateKey(self, bits):\n",
      "        \"\"\"\n",
      "        Generate a private key using a secure random number generator.\n",
      "        \"\"\"\n",
      "        return secure_random(bits)\n",
      "\n",
      "    def genPublicKey(self):\n",
      "        \"\"\"\n",
      "        Generate a public key X with g**x % p.\n",
      "        \"\"\"\n",
      "        return pow(self.generator, self.privateKey, self.prime)\n",
      "\n",
      "    def checkPublicKey(self, otherKey):\n",
      "        \"\"\"\n",
      "        Check the other party's public key to make sure it's valid.\n",
      "        Since a safe prime is used, verify that the Legendre symbol is equal to one.\n",
      "        \"\"\"\n",
      "        if(otherKey > 2 and otherKey < self.prime - 1):\n",
      "            if(pow(otherKey, (self.prime - 1)/2, self.prime) == 1):\n",
      "                return True\n",
      "        return False\n",
      "\n",
      "    def genSecret(self, privateKey, otherKey):\n",
      "        \"\"\"\n",
      "        Check to make sure the public key is valid, then combine it with the\n",
      "        private key to generate a shared secret.\n",
      "        \"\"\"\n",
      "        if(self.checkPublicKey(otherKey)==True):\n",
      "            sharedSecret = pow(otherKey, privateKey, self.prime)\n",
      "            return sharedSecret\n",
      "        else:\n",
      "            raise Exception(\"Invalid public key.\")\n",
      "\n",
      "    def genKey(self, otherKey):\n",
      "        \"\"\"\n",
      "        Derive the shared secret, then hash it to obtain the shared key.\n",
      "        \"\"\"\n",
      "        self.sharedSecret = self.genSecret(self.privateKey, otherKey)\n",
      "        s = hashlib.sha256()\n",
      "        s.update(str(self.sharedSecret))\n",
      "        self.key = s.digest()\n",
      "\n",
      "    def getKey(self):\n",
      "        \"\"\"\n",
      "        Return the shared secret key\n",
      "        \"\"\"\n",
      "        return self.key\n",
      "\n",
      "    def showParams(self):\n",
      "        \"\"\"\n",
      "        Show the parameters of the Diffie Hellman agreement.\n",
      "        \"\"\"\n",
      "        print \"Parameters:\"\n",
      "        print\n",
      "        print \"Prime: \", self.prime\n",
      "        print \"Generator: \", self.generator\n",
      "        print \"Private key: \", self.privateKey\n",
      "        print \"Public key: \", self.publicKey\n",
      "        print\n",
      "\n",
      "    def showResults(self):\n",
      "        \"\"\"\n",
      "        Show the results of a Diffie-Hellman exchange.\n",
      "        \"\"\"\n",
      "        print \"Results:\"\n",
      "        print\n",
      "        print \"Shared secret: \", self.sharedSecret\n",
      "        print \"Shared key: \", hexlify(self.key)\n",
      "        print"
     ],
     "language": "python",
     "metadata": {},
     "outputs": [],
     "prompt_number": 1
    },
    {
     "cell_type": "code",
     "collapsed": false,
     "input": [
      "\"\"\"\n",
      "Run an example Diffie-Hellman exchange \n",
      "\"\"\"\n",
      "a = DiffieHellman(prime_file='3072bit_prime.txt', private_key_len=256)\n",
      "b = DiffieHellman(prime_file='3072bit_prime.txt', private_key_len=256)\n",
      "\n",
      "a.genKey(b.publicKey)\n",
      "b.genKey(a.publicKey)\n",
      "\n",
      "if(a.getKey()==b.getKey()):\n",
      "    print \"Shared keys match.\"\n",
      "    print \"Key:\", hexlify(a.key)\n",
      "else:\n",
      "    print \"Shared secrets didn't match!\"\n",
      "    print \"Shared secret: \", a.genSecret(b.publicKey)\n",
      "    print \"Shared secret: \", b.genSecret(a.publicKey)"
     ],
     "language": "python",
     "metadata": {},
     "outputs": [
      {
       "output_type": "stream",
       "stream": "stdout",
       "text": [
        "Shared keys match.\n",
        "Key: f782067e3196024eeba9f53a2bb73d4b3b3e8c04ea547fde1b7e9f76c48d6562\n"
       ]
      }
     ],
     "prompt_number": 32
    },
    {
     "cell_type": "code",
     "collapsed": false,
     "input": [
      "a.publicKey"
     ],
     "language": "python",
     "metadata": {},
     "outputs": [
      {
       "metadata": {},
       "output_type": "pyout",
       "prompt_number": 33,
       "text": [
        "5142055996886324115558098499116731578260629496668302641278688164144331042383203069146265092095971168287552745407813290109050888458802584086562065891457505821943454485830128451278645023220925874325055963808257294039903630480329836470235065538147446765975593682744983595213745142829628382063685792735269723720337033939992697042251440432223881773966406319890769380668095985036261773805040532101686921879668663340079177191374871472855529447936761737067715939030025896314075647902480862995645382566487046807543474229930450179957248513953600427631226331261634597571467381256580705008900056534226523028434155182485931348471586910006693043974224794578756074984811272291811815611607444381812936800533666784072100662827396927555205025297123542110299706772327077364336667676836046934291098569875695777017095128567493354133034771598853891719455762758098700251988349975400899503338766495728268889003447782214359970541657846666344314263257L"
       ]
      }
     ],
     "prompt_number": 33
    },
    {
     "cell_type": "code",
     "collapsed": false,
     "input": [
      "len(bin(a.publicKey)[2:])"
     ],
     "language": "python",
     "metadata": {},
     "outputs": [
      {
       "metadata": {},
       "output_type": "pyout",
       "prompt_number": 34,
       "text": [
        "3072"
       ]
      }
     ],
     "prompt_number": 34
    },
    {
     "cell_type": "code",
     "collapsed": false,
     "input": [
      "a.sharedSecret"
     ],
     "language": "python",
     "metadata": {},
     "outputs": [
      {
       "metadata": {},
       "output_type": "pyout",
       "prompt_number": 35,
       "text": [
        "4444975520217309318346628180050510440189652019257374804633942816532866224009442612854186165523824339551973169920830895833122300067618125218376488171726656835165488319153070921816970734372722357141413227253775946048830715322362535204282306673926537092465938687060432351202872888453027503498259426062348818574423650105834374955485131283454913870998473355502126864126533998676210961320178524427166931288068113135506028602869129002333744239538318994534899971424843425466611578743229787752264843380773081748738985854753399395698476673769144515750583760528640350564901446501589566570473125591907758088265664154401843306460120735997388284764285154931529704012136214731645412209942047718733172528451136530845562709849910772953880258789494936811564319563996096830398690210361646567594182179979747301655515385355702664451091482190369479813365211877428235507173601435575021357036330424836232582176876472544840018822989052291948955136113L"
       ]
      }
     ],
     "prompt_number": 35
    },
    {
     "cell_type": "code",
     "collapsed": false,
     "input": [
      "len(bin(a.sharedSecret)[2:])"
     ],
     "language": "python",
     "metadata": {},
     "outputs": [
      {
       "metadata": {},
       "output_type": "pyout",
       "prompt_number": 36,
       "text": [
        "3072"
       ]
      }
     ],
     "prompt_number": 36
    },
    {
     "cell_type": "code",
     "collapsed": false,
     "input": [
      "%timeit a.genPrivateKey(256)"
     ],
     "language": "python",
     "metadata": {},
     "outputs": [
      {
       "output_type": "stream",
       "stream": "stdout",
       "text": [
        "10 loops, best of 3: 11.9 ms per loop\n"
       ]
      }
     ],
     "prompt_number": 48
    },
    {
     "cell_type": "code",
     "collapsed": false,
     "input": [
      "%timeit a.genPublicKey()"
     ],
     "language": "python",
     "metadata": {},
     "outputs": [
      {
       "output_type": "stream",
       "stream": "stdout",
       "text": [
        "10 loops, best of 3: 28.1 ms per loop\n"
       ]
      }
     ],
     "prompt_number": 44
    },
    {
     "cell_type": "code",
     "collapsed": false,
     "input": [
      "%timeit a.genSecret(a.privateKey, b.publicKey)"
     ],
     "language": "python",
     "metadata": {},
     "outputs": [
      {
       "output_type": "stream",
       "stream": "stdout",
       "text": [
        "1 loops, best of 3: 503 ms per loop\n"
       ]
      }
     ],
     "prompt_number": 45
    },
    {
     "cell_type": "heading",
     "level": 3,
     "metadata": {},
     "source": [
      "Primality testing"
     ]
    },
    {
     "cell_type": "code",
     "collapsed": false,
     "input": [
      "import gmpy"
     ],
     "language": "python",
     "metadata": {},
     "outputs": [],
     "prompt_number": 85
    },
    {
     "cell_type": "code",
     "collapsed": false,
     "input": [
      "with open('3072bit_prime.txt', 'r') as f:\n",
      "    p = f.read().replace(' ', '').replace('\\n', '')"
     ],
     "language": "python",
     "metadata": {},
     "outputs": [],
     "prompt_number": 86
    },
    {
     "cell_type": "code",
     "collapsed": false,
     "input": [
      "p_int = int(p, 16)"
     ],
     "language": "python",
     "metadata": {},
     "outputs": [],
     "prompt_number": 87
    },
    {
     "cell_type": "code",
     "collapsed": false,
     "input": [
      "%timeit gmpy.is_prime(p_int)"
     ],
     "language": "python",
     "metadata": {},
     "outputs": [
      {
       "output_type": "stream",
       "stream": "stdout",
       "text": [
        "1 loops, best of 3: 2.68 s per loop\n"
       ]
      }
     ],
     "prompt_number": 88
    },
    {
     "cell_type": "heading",
     "level": 3,
     "metadata": {},
     "source": [
      "All in one script"
     ]
    },
    {
     "cell_type": "code",
     "collapsed": false,
     "input": [
      "from Crypto.Cipher import AES\n",
      "from Crypto import Random\n",
      "from timeit import Timer, timeit, repeat\n",
      "from pprint import pprint\n",
      "from DiffieHellman import DiffieHellman\n",
      "\n",
      "# repetitions for each test\n",
      "rep = 100\n",
      "\n",
      "# AES: \n",
      "# - 128 bits block size (16 Bytes)\n",
      "# - 128, 192 and 256 bits key sizes. (16, 24, 32 Bytes)\n",
      "BLOCK_SIZE = 16\n",
      "KEY_SIZE = 32\n",
      "mode = AES.MODE_CBC\n",
      "\n",
      "# standardized padding TBD, e.g. PKCS#7 or PKCS#5\n",
      "PADDING = '{'\n",
      "pad = lambda s: s + (BLOCK_SIZE - len(s) % BLOCK_SIZE) * PADDING\n",
      "\n",
      "EncodeAES = lambda c, s: c.encrypt(pad(s))\n",
      "DecodeAES = lambda c, e: c.decrypt(e).rstrip(PADDING)\n",
      "\n",
      "## Encryption benchmarks\n",
      "# generate a random secret key\n",
      "key = Random.new().read(KEY_SIZE)\n",
      "# generate a random IV\n",
      "iv_bytes = Random.new().read(BLOCK_SIZE)\n",
      "# create a cipher object using the random key and IV\n",
      "cipher = AES.new(key, mode, iv_bytes)\n",
      "\n",
      "# measure latency of encrypting one message \n",
      "# for various message lengths (N = number of characters)\n",
      "etimes = []\n",
      "for N in [1, 10, 100, 1000, 10000]:\n",
      "    etimes.append(timeit(\"EncodeAES(cipher, 'c' * N)\", \n",
      "                         setup=\"from __main__ import EncodeAES, cipher, N\", number=rep) / rep)\n",
      "    \n",
      "# strange effect for N = 1\n",
      "print 'times to encrypt N Bytes: '\n",
      "pprint( dict(zip([1, 10, 100, 1000, 10000], etimes)) )\n",
      "\n",
      "# measure latency of encrypting M messages of N characters each\n",
      "# encryption of M messages is simply done by repeating M times\n",
      "M = 200 # messages\n",
      "N = 100 # characters / Bytes\n",
      "stmt = '''\n",
      "for i in xrange(M):\n",
      "    encoded = EncodeAES(cipher, 'c' * N)\n",
      "'''\n",
      "print 'time to encrypt 200 messages, each of 100 Bytes: ' , \\\n",
      "timeit(stmt, setup=\"from __main__ import EncodeAES, cipher, M, N\", number=rep) / rep\n",
      "\n",
      "## Decryption benchmarks\n",
      "dtimes = []\n",
      "for N in [1, 10, 100, 1000, 10000]:\n",
      "    # generate a random secret key\n",
      "    key = Random.new().read(KEY_SIZE)\n",
      "    # generate a random IV\n",
      "    iv_bytes = Random.new().read(BLOCK_SIZE)\n",
      "    # create a cipher object using the random key and IV\n",
      "    cipher = AES.new(key, mode, iv_bytes)\n",
      "    # decode the encoded string\n",
      "    encoded = EncodeAES(cipher, 'c' * N)\n",
      "    dtimes.append(timeit(\"DecodeAES(cipher, iv_bytes + encoded)[len(iv_bytes):]\", \n",
      "                         setup=\"from __main__ import DecodeAES, cipher, iv_bytes, encoded\", number=rep) / rep)\n",
      "    \n",
      "# strange effect for N = 1\n",
      "print 'times to decrypt N Bytes: '\n",
      "pprint( dict(zip([1, 10, 100, 1000, 10000], dtimes)) )\n",
      "\n",
      "# decrypting M times\n",
      "M = 200\n",
      "stmt='''\n",
      "for i in xrange(M):\n",
      "    decoded = DecodeAES(cipher, iv_bytes + encoded)[len(iv_bytes):]\n",
      "'''\n",
      "print 'time to decrypt 200 messages, each of 100 Bytes: ' , \\\n",
      "timeit(stmt, setup=\"from __main__ import DecodeAES, cipher, iv_bytes, encoded, M\", number=rep) / rep\n",
      "\n",
      "\n",
      "## Diffie Hellman benchmark\n",
      "a = DiffieHellman()\n",
      "b = DiffieHellman()\n",
      "a.genKey(b.publicKey)\n",
      "b.genKey(a.publicKey)\n",
      "\n",
      "# compute timing of performing modular exponentiation\n",
      "print 'time to perform modular exponentiation: ', \\\n",
      "timeit(\"pow(b.publicKey, a.privateKey, a.prime)\", setup=\"from __main__ import a, b\", number=rep) / rep"
     ],
     "language": "python",
     "metadata": {},
     "outputs": [
      {
       "output_type": "stream",
       "stream": "stdout",
       "text": [
        "times to encrypt N Bytes: \n",
        "{1: 1.8577780133455236e-06,\n",
        " 10: 1.8745399211184121e-06,\n",
        " 100: 2.7377781259474432e-06,\n",
        " 1000: 1.0970668059826493e-05,\n",
        " 10000: 0.00013536916004682097}\n",
        "time to encrypt 200 messages, each of 100 Bytes:  0.000537082226931\n",
        "times to decrypt N Bytes: "
       ]
      },
      {
       "output_type": "stream",
       "stream": "stdout",
       "text": [
        "\n",
        "{1: 2.0337780358659073e-06,\n",
        " 10: 1.989079617032985e-06,\n",
        " 100: 2.8048257524915244e-06,\n",
        " 1000: 1.295695402632191e-05,\n",
        " 10000: 0.00010249626698282554}\n",
        "time to decrypt 200 messages, each of 100 Bytes:  "
       ]
      },
      {
       "output_type": "stream",
       "stream": "stdout",
       "text": [
        "0.0236716146885\n",
        "time to perform modular exponentiation: "
       ]
      },
      {
       "output_type": "stream",
       "stream": "stdout",
       "text": [
        " 0.405529917909\n"
       ]
      }
     ],
     "prompt_number": 3
    },
    {
     "cell_type": "code",
     "collapsed": false,
     "input": [],
     "language": "python",
     "metadata": {},
     "outputs": []
    }
   ],
   "metadata": {}
  }
 ]
}